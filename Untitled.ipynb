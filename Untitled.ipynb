{
 "cells": [
  {
   "cell_type": "code",
   "execution_count": 1,
   "metadata": {},
   "outputs": [],
   "source": [
    "import pandas as pd\n",
    "import os\n",
    "import pandas as pd\n",
    "from elasticsearch import Elasticsearch\n",
    "from elasticsearch.helpers import bulk\n",
    "import os"
   ]
  },
  {
   "cell_type": "code",
   "execution_count": 21,
   "metadata": {},
   "outputs": [
    {
     "name": "stdout",
     "output_type": "stream",
     "text": [
      "file:///C:/Users/Administrator/Downloads/us-500/annual-enterprise-survey-2018-financial-year-provisional-csv.csv\n",
      "annual-enterprise-survey-2018-financial-year-provisional-csv\n",
      "27810\n",
      "[]\n",
      "file:///C:/Users/Administrator/Downloads/us-500/us-500.csv\n",
      "annual-enterprise-survey-2018-financial-year-provisional-csv\n",
      "27810\n",
      "[]\n"
     ]
    }
   ],
   "source": [
    "filename=\"file:///C:/Users/Administrator/Downloads/us-500/annual-enterprise-survey-2018-financial-year-provisional-csv.csv\"\n",
    "flist=[filename,\"file:///C:/Users/Administrator/Downloads/us-500/us-500.csv\"]\n",
    "for i in flist: \n",
    "    print(i) \n",
    "    fnamebase=os.path.basename(filename)\n",
    "    indexname=os.path.splitext(fnamebase.lower())[0]\n",
    "    print(indexname)\n",
    "    data=pd.read_csv(filename) \n",
    "    data.columns = data.columns.str.replace(' ', '_')\n",
    "    es = Elasticsearch('http://localhost:9200',timeout=600)\n",
    "# Simple index creation with no particular mapping\n",
    "    documents = data.to_dict(orient='records')\n",
    "    success, failed=bulk(es, documents, index=indexname,doc_type='prepg', raise_on_error=True)\n",
    "    print(success)\n",
    "    print(failed)"
   ]
  },
  {
   "cell_type": "code",
   "execution_count": 20,
   "metadata": {},
   "outputs": [
    {
     "name": "stdout",
     "output_type": "stream",
     "text": [
      "27810\n",
      "[]\n"
     ]
    }
   ],
   "source": [
    "\n",
    "es = Elasticsearch('http://localhost:9200',timeout=600)\n",
    "# Simple index creation with no particular mapping\n",
    "documents = data.to_dict(orient='records')\n",
    "success, failed=bulk(es, documents, index=indexname,doc_type='prepg', raise_on_error=True)\n",
    "print(success)\n",
    "print(failed)"
   ]
  }
 ],
 "metadata": {
  "kernelspec": {
   "display_name": "Python 3",
   "language": "python",
   "name": "python3"
  },
  "language_info": {
   "codemirror_mode": {
    "name": "ipython",
    "version": 3
   },
   "file_extension": ".py",
   "mimetype": "text/x-python",
   "name": "python",
   "nbconvert_exporter": "python",
   "pygments_lexer": "ipython3",
   "version": "3.7.7"
  }
 },
 "nbformat": 4,
 "nbformat_minor": 4
}
